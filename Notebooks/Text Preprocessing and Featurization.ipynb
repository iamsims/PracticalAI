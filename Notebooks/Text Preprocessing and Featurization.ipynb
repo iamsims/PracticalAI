{
 "cells": [
  {
   "cell_type": "markdown",
   "metadata": {
    "colab_type": "text",
    "id": "qRQmvktTz6-k"
   },
   "source": [
    "## Reading data "
   ]
  },
  {
   "cell_type": "code",
   "execution_count": 6,
   "metadata": {
    "colab": {},
    "colab_type": "code",
    "id": "BItU2n1rz6-o"
   },
   "outputs": [],
   "source": [
    "import sqlite3\n",
    "import pandas as pd"
   ]
  },
  {
   "cell_type": "code",
   "execution_count": 7,
   "metadata": {
    "colab": {},
    "colab_type": "code",
    "id": "DC8wcxYuz6-2"
   },
   "outputs": [],
   "source": [
    "db =sqlite3.connect('../Data/database.sqlite')\n",
    "data= pd.read_sql_query(\"\"\" SELECT * from Reviews WHERE Score!=3 LIMIT 5000\"\"\",db) "
   ]
  },
  {
   "cell_type": "code",
   "execution_count": 8,
   "metadata": {
    "colab": {
     "base_uri": "https://localhost:8080/",
     "height": 86
    },
    "colab_type": "code",
    "id": "vapQrXmIz6_G",
    "outputId": "a58c35e7-04e9-4457-cdb7-28bf77edda9c"
   },
   "outputs": [
    {
     "name": "stdout",
     "output_type": "stream",
     "text": [
      "Index(['Id', 'ProductId', 'UserId', 'ProfileName', 'HelpfulnessNumerator',\n",
      "       'HelpfulnessDenominator', 'Score', 'Time', 'Summary', 'Text'],\n",
      "      dtype='object')\n",
      "(5000, 10)\n"
     ]
    }
   ],
   "source": [
    "print(data.columns)\n",
    "print(data.shape)"
   ]
  },
  {
   "cell_type": "code",
   "execution_count": 9,
   "metadata": {
    "colab": {},
    "colab_type": "code",
    "id": "1qh1oeWAz6_T"
   },
   "outputs": [],
   "source": [
    "score=data['Score']"
   ]
  },
  {
   "cell_type": "code",
   "execution_count": 10,
   "metadata": {
    "colab": {
     "base_uri": "https://localhost:8080/",
     "height": 678
    },
    "colab_type": "code",
    "id": "MQTXPVQFz6_b",
    "outputId": "4b2af37e-e39d-425d-e133-18372a058382"
   },
   "outputs": [
    {
     "data": {
      "text/html": [
       "<div>\n",
       "<style scoped>\n",
       "    .dataframe tbody tr th:only-of-type {\n",
       "        vertical-align: middle;\n",
       "    }\n",
       "\n",
       "    .dataframe tbody tr th {\n",
       "        vertical-align: top;\n",
       "    }\n",
       "\n",
       "    .dataframe thead th {\n",
       "        text-align: right;\n",
       "    }\n",
       "</style>\n",
       "<table border=\"1\" class=\"dataframe\">\n",
       "  <thead>\n",
       "    <tr style=\"text-align: right;\">\n",
       "      <th></th>\n",
       "      <th>Id</th>\n",
       "      <th>ProductId</th>\n",
       "      <th>UserId</th>\n",
       "      <th>ProfileName</th>\n",
       "      <th>HelpfulnessNumerator</th>\n",
       "      <th>HelpfulnessDenominator</th>\n",
       "      <th>Score</th>\n",
       "      <th>Time</th>\n",
       "      <th>Summary</th>\n",
       "      <th>Text</th>\n",
       "    </tr>\n",
       "  </thead>\n",
       "  <tbody>\n",
       "    <tr>\n",
       "      <th>0</th>\n",
       "      <td>1</td>\n",
       "      <td>B001E4KFG0</td>\n",
       "      <td>A3SGXH7AUHU8GW</td>\n",
       "      <td>delmartian</td>\n",
       "      <td>1</td>\n",
       "      <td>1</td>\n",
       "      <td>1</td>\n",
       "      <td>1303862400</td>\n",
       "      <td>Good Quality Dog Food</td>\n",
       "      <td>I have bought several of the Vitality canned d...</td>\n",
       "    </tr>\n",
       "    <tr>\n",
       "      <th>1</th>\n",
       "      <td>2</td>\n",
       "      <td>B00813GRG4</td>\n",
       "      <td>A1D87F6ZCVE5NK</td>\n",
       "      <td>dll pa</td>\n",
       "      <td>0</td>\n",
       "      <td>0</td>\n",
       "      <td>0</td>\n",
       "      <td>1346976000</td>\n",
       "      <td>Not as Advertised</td>\n",
       "      <td>Product arrived labeled as Jumbo Salted Peanut...</td>\n",
       "    </tr>\n",
       "    <tr>\n",
       "      <th>2</th>\n",
       "      <td>3</td>\n",
       "      <td>B000LQOCH0</td>\n",
       "      <td>ABXLMWJIXXAIN</td>\n",
       "      <td>Natalia Corres \"Natalia Corres\"</td>\n",
       "      <td>1</td>\n",
       "      <td>1</td>\n",
       "      <td>1</td>\n",
       "      <td>1219017600</td>\n",
       "      <td>\"Delight\" says it all</td>\n",
       "      <td>This is a confection that has been around a fe...</td>\n",
       "    </tr>\n",
       "    <tr>\n",
       "      <th>3</th>\n",
       "      <td>4</td>\n",
       "      <td>B000UA0QIQ</td>\n",
       "      <td>A395BORC6FGVXV</td>\n",
       "      <td>Karl</td>\n",
       "      <td>3</td>\n",
       "      <td>3</td>\n",
       "      <td>0</td>\n",
       "      <td>1307923200</td>\n",
       "      <td>Cough Medicine</td>\n",
       "      <td>If you are looking for the secret ingredient i...</td>\n",
       "    </tr>\n",
       "    <tr>\n",
       "      <th>4</th>\n",
       "      <td>5</td>\n",
       "      <td>B006K2ZZ7K</td>\n",
       "      <td>A1UQRSCLF8GW1T</td>\n",
       "      <td>Michael D. Bigham \"M. Wassir\"</td>\n",
       "      <td>0</td>\n",
       "      <td>0</td>\n",
       "      <td>1</td>\n",
       "      <td>1350777600</td>\n",
       "      <td>Great taffy</td>\n",
       "      <td>Great taffy at a great price.  There was a wid...</td>\n",
       "    </tr>\n",
       "  </tbody>\n",
       "</table>\n",
       "</div>"
      ],
      "text/plain": [
       "   Id  ...                                               Text\n",
       "0   1  ...  I have bought several of the Vitality canned d...\n",
       "1   2  ...  Product arrived labeled as Jumbo Salted Peanut...\n",
       "2   3  ...  This is a confection that has been around a fe...\n",
       "3   4  ...  If you are looking for the secret ingredient i...\n",
       "4   5  ...  Great taffy at a great price.  There was a wid...\n",
       "\n",
       "[5 rows x 10 columns]"
      ]
     },
     "execution_count": 10,
     "metadata": {
      "tags": []
     },
     "output_type": "execute_result"
    }
   ],
   "source": [
    "def partition(x):\n",
    "    if x < 3:\n",
    "        return 0\n",
    "    return 1\n",
    "\n",
    "classified_score=score.map(partition)\n",
    "data['Score'] = classified_score\n",
    "data.head(5)"
   ]
  },
  {
   "cell_type": "code",
   "execution_count": 11,
   "metadata": {
    "colab": {
     "base_uri": "https://localhost:8080/",
     "height": 206
    },
    "colab_type": "code",
    "id": "hyffqojhz6_l",
    "outputId": "17ae7a41-c7ff-4692-a299-71c9012d1134"
   },
   "outputs": [
    {
     "data": {
      "text/html": [
       "<div>\n",
       "<style scoped>\n",
       "    .dataframe tbody tr th:only-of-type {\n",
       "        vertical-align: middle;\n",
       "    }\n",
       "\n",
       "    .dataframe tbody tr th {\n",
       "        vertical-align: top;\n",
       "    }\n",
       "\n",
       "    .dataframe thead th {\n",
       "        text-align: right;\n",
       "    }\n",
       "</style>\n",
       "<table border=\"1\" class=\"dataframe\">\n",
       "  <thead>\n",
       "    <tr style=\"text-align: right;\">\n",
       "      <th></th>\n",
       "      <th>UserId</th>\n",
       "      <th>ProfileName</th>\n",
       "      <th>COUNT(*)</th>\n",
       "    </tr>\n",
       "  </thead>\n",
       "  <tbody>\n",
       "    <tr>\n",
       "      <th>0</th>\n",
       "      <td>#oc-R115TNMSPFT9I7</td>\n",
       "      <td>Breyton</td>\n",
       "      <td>2</td>\n",
       "    </tr>\n",
       "    <tr>\n",
       "      <th>1</th>\n",
       "      <td>#oc-R11D9D7SHXIJB9</td>\n",
       "      <td>Louis E. Emory \"hoppy\"</td>\n",
       "      <td>3</td>\n",
       "    </tr>\n",
       "    <tr>\n",
       "      <th>2</th>\n",
       "      <td>#oc-R11DNU2NBKQ23Z</td>\n",
       "      <td>Kim Cieszykowski</td>\n",
       "      <td>2</td>\n",
       "    </tr>\n",
       "    <tr>\n",
       "      <th>3</th>\n",
       "      <td>#oc-R11O5J5ZVQE25C</td>\n",
       "      <td>Penguin Chick</td>\n",
       "      <td>3</td>\n",
       "    </tr>\n",
       "    <tr>\n",
       "      <th>4</th>\n",
       "      <td>#oc-R12KPBODL2B5ZD</td>\n",
       "      <td>Christopher P. Presta</td>\n",
       "      <td>2</td>\n",
       "    </tr>\n",
       "  </tbody>\n",
       "</table>\n",
       "</div>"
      ],
      "text/plain": [
       "               UserId             ProfileName  COUNT(*)\n",
       "0  #oc-R115TNMSPFT9I7                 Breyton         2\n",
       "1  #oc-R11D9D7SHXIJB9  Louis E. Emory \"hoppy\"         3\n",
       "2  #oc-R11DNU2NBKQ23Z        Kim Cieszykowski         2\n",
       "3  #oc-R11O5J5ZVQE25C           Penguin Chick         3\n",
       "4  #oc-R12KPBODL2B5ZD   Christopher P. Presta         2"
      ]
     },
     "execution_count": 11,
     "metadata": {
      "tags": []
     },
     "output_type": "execute_result"
    }
   ],
   "source": [
    "'''all the users who have given reviews more than 1 time'''\n",
    "display0 = pd.read_sql_query(\"\"\"                   \n",
    "SELECT UserId, ProfileName, COUNT(*)\n",
    "FROM Reviews\n",
    "GROUP BY UserId\n",
    "HAVING COUNT(*)>1\n",
    "\"\"\", db)\n",
    "display0.head()"
   ]
  },
  {
   "cell_type": "code",
   "execution_count": 12,
   "metadata": {
    "colab": {
     "base_uri": "https://localhost:8080/",
     "height": 206
    },
    "colab_type": "code",
    "id": "Kg7r54cSz6_u",
    "outputId": "43244b40-5831-48cb-aeda-643aabb722fe"
   },
   "outputs": [
    {
     "data": {
      "text/html": [
       "<div>\n",
       "<style scoped>\n",
       "    .dataframe tbody tr th:only-of-type {\n",
       "        vertical-align: middle;\n",
       "    }\n",
       "\n",
       "    .dataframe tbody tr th {\n",
       "        vertical-align: top;\n",
       "    }\n",
       "\n",
       "    .dataframe thead th {\n",
       "        text-align: right;\n",
       "    }\n",
       "</style>\n",
       "<table border=\"1\" class=\"dataframe\">\n",
       "  <thead>\n",
       "    <tr style=\"text-align: right;\">\n",
       "      <th></th>\n",
       "      <th>UserId</th>\n",
       "      <th>ProfileName</th>\n",
       "      <th>COUNT(*)</th>\n",
       "    </tr>\n",
       "  </thead>\n",
       "  <tbody>\n",
       "    <tr>\n",
       "      <th>0</th>\n",
       "      <td>#oc-R103C0QSV1DF5E</td>\n",
       "      <td>C</td>\n",
       "      <td>1</td>\n",
       "    </tr>\n",
       "    <tr>\n",
       "      <th>1</th>\n",
       "      <td>#oc-R109MU5OBBZ59U</td>\n",
       "      <td>AayGee</td>\n",
       "      <td>1</td>\n",
       "    </tr>\n",
       "    <tr>\n",
       "      <th>2</th>\n",
       "      <td>#oc-R10LFEMQEW6QGZ</td>\n",
       "      <td>Julie</td>\n",
       "      <td>1</td>\n",
       "    </tr>\n",
       "    <tr>\n",
       "      <th>3</th>\n",
       "      <td>#oc-R10LT57ZGIB140</td>\n",
       "      <td>dipr</td>\n",
       "      <td>1</td>\n",
       "    </tr>\n",
       "    <tr>\n",
       "      <th>4</th>\n",
       "      <td>#oc-R10UA029WVWIUI</td>\n",
       "      <td>Kim D</td>\n",
       "      <td>1</td>\n",
       "    </tr>\n",
       "  </tbody>\n",
       "</table>\n",
       "</div>"
      ],
      "text/plain": [
       "               UserId ProfileName  COUNT(*)\n",
       "0  #oc-R103C0QSV1DF5E           C         1\n",
       "1  #oc-R109MU5OBBZ59U      AayGee         1\n",
       "2  #oc-R10LFEMQEW6QGZ       Julie         1\n",
       "3  #oc-R10LT57ZGIB140        dipr         1\n",
       "4  #oc-R10UA029WVWIUI       Kim D         1"
      ]
     },
     "execution_count": 12,
     "metadata": {
      "tags": []
     },
     "output_type": "execute_result"
    }
   ],
   "source": [
    "'''all the unique users '''\n",
    "display1 = pd.read_sql_query(\"\"\"                   \n",
    "SELECT UserId, ProfileName, COUNT(*)\n",
    "FROM Reviews\n",
    "GROUP BY UserId\n",
    "\"\"\", db)\n",
    "display1.head()"
   ]
  },
  {
   "cell_type": "code",
   "execution_count": 13,
   "metadata": {
    "colab": {
     "base_uri": "https://localhost:8080/",
     "height": 52
    },
    "colab_type": "code",
    "id": "vdy3dBEaz6_2",
    "outputId": "ad5a245f-350b-4dfa-b01e-329315de3094"
   },
   "outputs": [
    {
     "name": "stdout",
     "output_type": "stream",
     "text": [
      "80668 users who gave more than 1 reviews.\n",
      "256059 unique users out of 568454 reviews.\n"
     ]
    }
   ],
   "source": [
    "print(str(display0.shape[0]) + \" users who gave more than 1 reviews.\" )\n",
    "print(str(display1.shape[0])+ \" unique users out of \" +  str(display1['COUNT(*)'].sum()) + \" reviews.\")"
   ]
  },
  {
   "cell_type": "markdown",
   "metadata": {
    "colab_type": "text",
    "id": "h5UEY9cXz7AG"
   },
   "source": [
    "# Deduplication"
   ]
  },
  {
   "cell_type": "code",
   "execution_count": 14,
   "metadata": {
    "colab": {
     "base_uri": "https://localhost:8080/",
     "height": 206
    },
    "colab_type": "code",
    "id": "5qULPIN2z7AJ",
    "outputId": "1c9ceacd-c91c-47a6-f881-a0527962e1c8"
   },
   "outputs": [
    {
     "data": {
      "text/html": [
       "<div>\n",
       "<style scoped>\n",
       "    .dataframe tbody tr th:only-of-type {\n",
       "        vertical-align: middle;\n",
       "    }\n",
       "\n",
       "    .dataframe tbody tr th {\n",
       "        vertical-align: top;\n",
       "    }\n",
       "\n",
       "    .dataframe thead th {\n",
       "        text-align: right;\n",
       "    }\n",
       "</style>\n",
       "<table border=\"1\" class=\"dataframe\">\n",
       "  <thead>\n",
       "    <tr style=\"text-align: right;\">\n",
       "      <th></th>\n",
       "      <th>UserId</th>\n",
       "      <th>ProfileName</th>\n",
       "      <th>Time</th>\n",
       "      <th>ProductId</th>\n",
       "      <th>COUNT(*)</th>\n",
       "    </tr>\n",
       "  </thead>\n",
       "  <tbody>\n",
       "    <tr>\n",
       "      <th>0</th>\n",
       "      <td>#oc-R11D9D7SHXIJB9</td>\n",
       "      <td>Louis E. Emory \"hoppy\"</td>\n",
       "      <td>1342396800</td>\n",
       "      <td>B005HG9ET0</td>\n",
       "      <td>3</td>\n",
       "    </tr>\n",
       "    <tr>\n",
       "      <th>1</th>\n",
       "      <td>#oc-R11O5J5ZVQE25C</td>\n",
       "      <td>Penguin Chick</td>\n",
       "      <td>1346889600</td>\n",
       "      <td>B005HG9ET0</td>\n",
       "      <td>3</td>\n",
       "    </tr>\n",
       "    <tr>\n",
       "      <th>2</th>\n",
       "      <td>#oc-R12MGTQS5KZZRV</td>\n",
       "      <td>SKY2110 \"SKY2110\"</td>\n",
       "      <td>1344211200</td>\n",
       "      <td>B005HG9ET0</td>\n",
       "      <td>3</td>\n",
       "    </tr>\n",
       "    <tr>\n",
       "      <th>3</th>\n",
       "      <td>#oc-R13NNUL4EKL4FL</td>\n",
       "      <td>N. Chernyavskaya</td>\n",
       "      <td>1348358400</td>\n",
       "      <td>B005HG9ET0</td>\n",
       "      <td>3</td>\n",
       "    </tr>\n",
       "    <tr>\n",
       "      <th>4</th>\n",
       "      <td>#oc-R14ZSRYW2YB41B</td>\n",
       "      <td>A. Crafton</td>\n",
       "      <td>1346284800</td>\n",
       "      <td>B005HG9ET0</td>\n",
       "      <td>3</td>\n",
       "    </tr>\n",
       "  </tbody>\n",
       "</table>\n",
       "</div>"
      ],
      "text/plain": [
       "               UserId             ProfileName        Time   ProductId  COUNT(*)\n",
       "0  #oc-R11D9D7SHXIJB9  Louis E. Emory \"hoppy\"  1342396800  B005HG9ET0         3\n",
       "1  #oc-R11O5J5ZVQE25C           Penguin Chick  1346889600  B005HG9ET0         3\n",
       "2  #oc-R12MGTQS5KZZRV       SKY2110 \"SKY2110\"  1344211200  B005HG9ET0         3\n",
       "3  #oc-R13NNUL4EKL4FL        N. Chernyavskaya  1348358400  B005HG9ET0         3\n",
       "4  #oc-R14ZSRYW2YB41B              A. Crafton  1346284800  B005HG9ET0         3"
      ]
     },
     "execution_count": 14,
     "metadata": {
      "tags": []
     },
     "output_type": "execute_result"
    }
   ],
   "source": [
    "'''duplicate reviews '''\n",
    "\n",
    "display = pd.read_sql_query(\"\"\" \n",
    "SELECT UserId, ProfileName,Time,ProductId, COUNT(*)\n",
    "FROM Reviews\n",
    "GROUP BY UserId, Time \n",
    "HAVING COUNT(*)>2\n",
    "\"\"\", db)\n",
    "display.head()\n",
    "\n"
   ]
  },
  {
   "cell_type": "code",
   "execution_count": 15,
   "metadata": {
    "colab": {
     "base_uri": "https://localhost:8080/",
     "height": 35
    },
    "colab_type": "code",
    "id": "qfM99PSUz7AR",
    "outputId": "e1820ed0-ea9d-4c43-e2b9-902b3e07326f"
   },
   "outputs": [
    {
     "data": {
      "application/vnd.google.colaboratory.intrinsic+json": {
       "type": "string"
      },
      "text/plain": [
       "'#oc-R11D9D7SHXIJB9'"
      ]
     },
     "execution_count": 15,
     "metadata": {
      "tags": []
     },
     "output_type": "execute_result"
    }
   ],
   "source": [
    "display.iloc[0]['UserId']"
   ]
  },
  {
   "cell_type": "code",
   "execution_count": 16,
   "metadata": {
    "colab": {
     "base_uri": "https://localhost:8080/",
     "height": 196
    },
    "colab_type": "code",
    "id": "Gf_O9stKz7AZ",
    "outputId": "913d8065-7257-468b-9060-19e2e0d06b81"
   },
   "outputs": [
    {
     "data": {
      "text/html": [
       "<div>\n",
       "<style scoped>\n",
       "    .dataframe tbody tr th:only-of-type {\n",
       "        vertical-align: middle;\n",
       "    }\n",
       "\n",
       "    .dataframe tbody tr th {\n",
       "        vertical-align: top;\n",
       "    }\n",
       "\n",
       "    .dataframe thead th {\n",
       "        text-align: right;\n",
       "    }\n",
       "</style>\n",
       "<table border=\"1\" class=\"dataframe\">\n",
       "  <thead>\n",
       "    <tr style=\"text-align: right;\">\n",
       "      <th></th>\n",
       "      <th>UserId</th>\n",
       "      <th>ProfileName</th>\n",
       "      <th>Time</th>\n",
       "      <th>ProductId</th>\n",
       "      <th>Text</th>\n",
       "    </tr>\n",
       "  </thead>\n",
       "  <tbody>\n",
       "    <tr>\n",
       "      <th>0</th>\n",
       "      <td>#oc-R11D9D7SHXIJB9</td>\n",
       "      <td>Louis E. Emory \"hoppy\"</td>\n",
       "      <td>1342396800</td>\n",
       "      <td>B005HG9ESG</td>\n",
       "      <td>My wife has recurring extreme muscle spasms, u...</td>\n",
       "    </tr>\n",
       "    <tr>\n",
       "      <th>1</th>\n",
       "      <td>#oc-R11D9D7SHXIJB9</td>\n",
       "      <td>Louis E. Emory \"hoppy\"</td>\n",
       "      <td>1342396800</td>\n",
       "      <td>B005HG9ERW</td>\n",
       "      <td>My wife has recurring extreme muscle spasms, u...</td>\n",
       "    </tr>\n",
       "    <tr>\n",
       "      <th>2</th>\n",
       "      <td>#oc-R11D9D7SHXIJB9</td>\n",
       "      <td>Louis E. Emory \"hoppy\"</td>\n",
       "      <td>1342396800</td>\n",
       "      <td>B005HG9ET0</td>\n",
       "      <td>My wife has recurring extreme muscle spasms, u...</td>\n",
       "    </tr>\n",
       "  </tbody>\n",
       "</table>\n",
       "</div>"
      ],
      "text/plain": [
       "               UserId  ...                                               Text\n",
       "0  #oc-R11D9D7SHXIJB9  ...  My wife has recurring extreme muscle spasms, u...\n",
       "1  #oc-R11D9D7SHXIJB9  ...  My wife has recurring extreme muscle spasms, u...\n",
       "2  #oc-R11D9D7SHXIJB9  ...  My wife has recurring extreme muscle spasms, u...\n",
       "\n",
       "[3 rows x 5 columns]"
      ]
     },
     "execution_count": 16,
     "metadata": {
      "tags": []
     },
     "output_type": "execute_result"
    }
   ],
   "source": [
    "duplicate = pd.read_sql_query(\"\"\" \n",
    "SELECT UserId, ProfileName,Time,ProductId,Text\n",
    "FROM Reviews\n",
    "WHERE UserID = \"#oc-R11D9D7SHXIJB9\"\n",
    "\"\"\", db)\n",
    "duplicate.head()"
   ]
  },
  {
   "cell_type": "markdown",
   "metadata": {
    "colab_type": "text",
    "id": "20sS9A-gz7Ah"
   },
   "source": [
    "Here, the same user reviews different product Id in same time which is not possible.  While examining the productIds B005HG9ESG, B005HG9ERW, B005HG9ET0 in Amazon, we found out that they referred to same product-Essentia Water.Hence, this is a data error. "
   ]
  },
  {
   "cell_type": "code",
   "execution_count": 17,
   "metadata": {
    "colab": {
     "base_uri": "https://localhost:8080/",
     "height": 34
    },
    "colab_type": "code",
    "id": "PBBJZHt1z7Ai",
    "outputId": "0349667b-fc4b-4be5-f785-d4f0f90352d7"
   },
   "outputs": [
    {
     "data": {
      "text/plain": [
       "(5000, 10)"
      ]
     },
     "execution_count": 17,
     "metadata": {
      "tags": []
     },
     "output_type": "execute_result"
    }
   ],
   "source": [
    "sorted_data=data.sort_values('ProductId', axis=0, ascending=True, inplace=False,ignore_index=True, kind='quicksort',na_position='last')\n",
    "sorted_data.shape"
   ]
  },
  {
   "cell_type": "code",
   "execution_count": 18,
   "metadata": {
    "colab": {
     "base_uri": "https://localhost:8080/",
     "height": 34
    },
    "colab_type": "code",
    "id": "kgL90Hm0z7Ar",
    "outputId": "c481d0c2-c5a1-4f43-dac6-a809257831e4"
   },
   "outputs": [
    {
     "data": {
      "text/plain": [
       "(4986, 10)"
      ]
     },
     "execution_count": 18,
     "metadata": {
      "tags": []
     },
     "output_type": "execute_result"
    }
   ],
   "source": [
    "final=sorted_data.drop_duplicates(subset={\"UserId\",\"ProfileName\",\"Time\",\"Text\"}, keep='first', inplace=False)\n",
    "final.shape"
   ]
  },
  {
   "cell_type": "code",
   "execution_count": 19,
   "metadata": {
    "colab": {
     "base_uri": "https://localhost:8080/",
     "height": 34
    },
    "colab_type": "code",
    "id": "9jQqAhbmz7Ay",
    "outputId": "813d2f9d-b481-4b39-a99a-097c96d4a453"
   },
   "outputs": [
    {
     "data": {
      "text/plain": [
       "99.72"
      ]
     },
     "execution_count": 19,
     "metadata": {
      "tags": []
     },
     "output_type": "execute_result"
    }
   ],
   "source": [
    "(final['Id'].size*1.0)/(data['Id'].size)*100"
   ]
  },
  {
   "cell_type": "code",
   "execution_count": 20,
   "metadata": {
    "colab": {
     "base_uri": "https://localhost:8080/",
     "height": 323
    },
    "colab_type": "code",
    "id": "z94lFTGPz7A4",
    "outputId": "59946005-7c4a-49e4-f73b-9fee1e85260b"
   },
   "outputs": [
    {
     "data": {
      "text/html": [
       "<div>\n",
       "<style scoped>\n",
       "    .dataframe tbody tr th:only-of-type {\n",
       "        vertical-align: middle;\n",
       "    }\n",
       "\n",
       "    .dataframe tbody tr th {\n",
       "        vertical-align: top;\n",
       "    }\n",
       "\n",
       "    .dataframe thead th {\n",
       "        text-align: right;\n",
       "    }\n",
       "</style>\n",
       "<table border=\"1\" class=\"dataframe\">\n",
       "  <thead>\n",
       "    <tr style=\"text-align: right;\">\n",
       "      <th></th>\n",
       "      <th>UserId</th>\n",
       "      <th>ProfileName</th>\n",
       "      <th>Time</th>\n",
       "      <th>ProductId</th>\n",
       "      <th>Text</th>\n",
       "      <th>HelpfulnessNumerator</th>\n",
       "      <th>HelpfulnessDenominator</th>\n",
       "    </tr>\n",
       "  </thead>\n",
       "  <tbody>\n",
       "    <tr>\n",
       "      <th>0</th>\n",
       "      <td>A2V0I904FH7ABY</td>\n",
       "      <td>Ram</td>\n",
       "      <td>1212883200</td>\n",
       "      <td>B001EQ55RW</td>\n",
       "      <td>It was almost a 'love at first bite' - the per...</td>\n",
       "      <td>3</td>\n",
       "      <td>2</td>\n",
       "    </tr>\n",
       "    <tr>\n",
       "      <th>1</th>\n",
       "      <td>A161DK06JJMCYF</td>\n",
       "      <td>J. E. Stephens \"Jeanne\"</td>\n",
       "      <td>1224892800</td>\n",
       "      <td>B000MIDROQ</td>\n",
       "      <td>My son loves spaghetti so I didn't hesitate or...</td>\n",
       "      <td>3</td>\n",
       "      <td>1</td>\n",
       "    </tr>\n",
       "  </tbody>\n",
       "</table>\n",
       "</div>"
      ],
      "text/plain": [
       "           UserId  ... HelpfulnessDenominator\n",
       "0  A2V0I904FH7ABY  ...                      2\n",
       "1  A161DK06JJMCYF  ...                      1\n",
       "\n",
       "[2 rows x 7 columns]"
      ]
     },
     "execution_count": 20,
     "metadata": {
      "tags": []
     },
     "output_type": "execute_result"
    }
   ],
   "source": [
    "distorted_data = pd.read_sql_query(\"\"\" \n",
    "SELECT UserId, ProfileName,Time,ProductId,Text,HelpfulnessNumerator, HelpfulnessDenominator\n",
    "FROM Reviews\n",
    "WHERE HelpfulnessNumerator> HelpfulnessDenominator\n",
    "\"\"\", db)\n",
    "distorted_data"
   ]
  },
  {
   "cell_type": "code",
   "execution_count": 21,
   "metadata": {
    "colab": {},
    "colab_type": "code",
    "id": "39zq8IBEz7BA"
   },
   "outputs": [],
   "source": [
    "final=final[final.HelpfulnessNumerator<=final.HelpfulnessDenominator]"
   ]
  },
  {
   "cell_type": "code",
   "execution_count": 22,
   "metadata": {
    "colab": {
     "base_uri": "https://localhost:8080/",
     "height": 34
    },
    "colab_type": "code",
    "id": "6_2j9Tq5z7BG",
    "outputId": "d43629cf-392a-425b-985f-b9f63e934919"
   },
   "outputs": [
    {
     "data": {
      "text/plain": [
       "(4986, 10)"
      ]
     },
     "execution_count": 22,
     "metadata": {
      "tags": []
     },
     "output_type": "execute_result"
    }
   ],
   "source": [
    "final.shape"
   ]
  },
  {
   "cell_type": "markdown",
   "metadata": {
    "colab_type": "text",
    "id": "-eHxJZPGz7BK"
   },
   "source": [
    "# Text Preprocessing"
   ]
  },
  {
   "cell_type": "code",
   "execution_count": 23,
   "metadata": {
    "colab": {},
    "colab_type": "code",
    "id": "zs4LbRfdz7BL"
   },
   "outputs": [],
   "source": [
    "import re"
   ]
  },
  {
   "cell_type": "code",
   "execution_count": 24,
   "metadata": {
    "colab": {
     "base_uri": "https://localhost:8080/",
     "height": 89
    },
    "colab_type": "code",
    "id": "vW9W89Xcz7BR",
    "outputId": "8e4cff30-b873-42be-b20d-a664a13e5b35"
   },
   "outputs": [
    {
     "name": "stdout",
     "output_type": "stream",
     "text": [
      "Why is this $[...] when the same product is available for $[...] here?<br />http://www.amazon.com/VICTOR-FLY-MAGNET-BAIT-REFILL/dp/B00004RBDY<br /><br />The Victor M380 and M502 traps are unreal, of course -- total fly genocide. Pretty stinky, but only right nearby.\n",
      "I bought this same brand from an online Indian grocery store that usually has excellent products.  I was able to turn it into cream/butter, using my super blender and adding some water, but it barely had any flavor.  I usually buy the Chao Kah brand of coconut cream (which is quite tasty and flavorful) and read another review for a different product for making your own coconut cream.  My complaint is not the shreds or texture.  Mine was just virtually tasteless.\n",
      "I use these to keep my finicky toddler's protein levels up. What's great, is that they're delicious just about any way you can imagine cooking a sausage!<br /><br />A favorite Recipe: Sautee one large onion, about a tablespoon each dried basil and oregano, and some salt and pepper in about 2T of butter. Add sausage, that's been cut into coins, and russet potatoes cut into 1/4\" thick rounds. Cover all with chicken stock and simmer until potatoes are soft but not dissolved. Throw in a few handfuls of pre-washed baby spinach (I usually use about a half a pound, and frozen would work fine, just put it in a minute earlier). Stir until the spinach is cooked, and then serve! Enjoy!\n"
     ]
    }
   ],
   "source": [
    "sample_0 = final['Text'].values[0]\n",
    "print(sample_0)\n",
    "\n",
    "sample_1= final['Text'].values[10]\n",
    "print(sample_1)\n",
    "\n",
    "sample_2 = final['Text'].values[11]\n",
    "print(sample_2)"
   ]
  },
  {
   "cell_type": "code",
   "execution_count": 25,
   "metadata": {
    "colab": {},
    "colab_type": "code",
    "id": "Uajxf0Gpz7BX"
   },
   "outputs": [],
   "source": [
    "sample_0 = re.sub(r\"http\\S+\", \"\", sample_0) #https://stackoverflow.com/a/40823105/4084039\n",
    "sample_1 = re.sub(r\"http\\S+\", \"\", sample_1) # remove urls from text python: \n",
    "sample_2 = re.sub(r\"http\\S+\", \"\", sample_2) \n"
   ]
  },
  {
   "cell_type": "code",
   "execution_count": 26,
   "metadata": {
    "colab": {
     "base_uri": "https://localhost:8080/",
     "height": 89
    },
    "colab_type": "code",
    "id": "zjmA758mz7Bd",
    "outputId": "b878668d-f8b8-4375-c7fd-2ecd3ec6a2f6"
   },
   "outputs": [
    {
     "data": {
      "text/plain": [
       "('Why is this $[...] when the same product is available for $[...] here?<br /> /><br />The Victor M380 and M502 traps are unreal, of course -- total fly genocide. Pretty stinky, but only right nearby.',\n",
       " 'I bought this same brand from an online Indian grocery store that usually has excellent products.  I was able to turn it into cream/butter, using my super blender and adding some water, but it barely had any flavor.  I usually buy the Chao Kah brand of coconut cream (which is quite tasty and flavorful) and read another review for a different product for making your own coconut cream.  My complaint is not the shreds or texture.  Mine was just virtually tasteless.',\n",
       " 'I use these to keep my finicky toddler\\'s protein levels up. What\\'s great, is that they\\'re delicious just about any way you can imagine cooking a sausage!<br /><br />A favorite Recipe: Sautee one large onion, about a tablespoon each dried basil and oregano, and some salt and pepper in about 2T of butter. Add sausage, that\\'s been cut into coins, and russet potatoes cut into 1/4\" thick rounds. Cover all with chicken stock and simmer until potatoes are soft but not dissolved. Throw in a few handfuls of pre-washed baby spinach (I usually use about a half a pound, and frozen would work fine, just put it in a minute earlier). Stir until the spinach is cooked, and then serve! Enjoy!')"
      ]
     },
     "execution_count": 26,
     "metadata": {
      "tags": []
     },
     "output_type": "execute_result"
    }
   ],
   "source": [
    "sample_0, sample_1, sample_2"
   ]
  },
  {
   "cell_type": "code",
   "execution_count": 27,
   "metadata": {
    "colab": {
     "base_uri": "https://localhost:8080/",
     "height": 89
    },
    "colab_type": "code",
    "id": "ujgu7pwcz7Bl",
    "outputId": "29495ff7-877c-49d1-cdd1-15cdde8efa1b"
   },
   "outputs": [
    {
     "data": {
      "text/plain": [
       "('Why is this $[...] when the same product is available for $[...] here? />The Victor M380 and M502 traps are unreal, of course -- total fly genocide. Pretty stinky, but only right nearby.',\n",
       " 'I bought this same brand from an online Indian grocery store that usually has excellent products.  I was able to turn it into cream/butter, using my super blender and adding some water, but it barely had any flavor.  I usually buy the Chao Kah brand of coconut cream (which is quite tasty and flavorful) and read another review for a different product for making your own coconut cream.  My complaint is not the shreds or texture.  Mine was just virtually tasteless.',\n",
       " 'I use these to keep my finicky toddler\\'s protein levels up. What\\'s great, is that they\\'re delicious just about any way you can imagine cooking a sausage!A favorite Recipe: Sautee one large onion, about a tablespoon each dried basil and oregano, and some salt and pepper in about 2T of butter. Add sausage, that\\'s been cut into coins, and russet potatoes cut into 1/4\" thick rounds. Cover all with chicken stock and simmer until potatoes are soft but not dissolved. Throw in a few handfuls of pre-washed baby spinach (I usually use about a half a pound, and frozen would work fine, just put it in a minute earlier). Stir until the spinach is cooked, and then serve! Enjoy!')"
      ]
     },
     "execution_count": 27,
     "metadata": {
      "tags": []
     },
     "output_type": "execute_result"
    }
   ],
   "source": [
    "from bs4 import BeautifulSoup\n",
    "# https://stackoverflow.com/questions/16206380/python-beautifulsoup-how-to-remove-all-tags-from-an-element\n",
    "soup0 = BeautifulSoup(sample_0, 'lxml')\n",
    "\n",
    "\n",
    "soup1 = BeautifulSoup(sample_1, 'lxml')\n",
    "\n",
    "\n",
    "soup2 = BeautifulSoup(sample_2, 'lxml')\n",
    "soup0.text, soup1.text, soup2.text\n"
   ]
  },
  {
   "cell_type": "code",
   "execution_count": 28,
   "metadata": {
    "colab": {},
    "colab_type": "code",
    "id": "NNYYzA02z7Bq"
   },
   "outputs": [],
   "source": [
    "def decontracted(phrase):\n",
    "    phrase = re.sub(r\"n\\'t\", \" not\", phrase)\n",
    "    phrase = re.sub(r\"\\'re\", \" are\", phrase)\n",
    "    phrase = re.sub(r\"\\'s\", \" is\", phrase)\n",
    "    phrase = re.sub(r\"\\'d\", \" would\", phrase)\n",
    "    phrase = re.sub(r\"\\'ll\", \" will\", phrase)\n",
    "    phrase = re.sub(r\"\\'t\", \" not\", phrase)\n",
    "    phrase = re.sub(r\"\\'ve\", \" have\", phrase)\n",
    "    phrase = re.sub(r\"\\'m\", \" am\", phrase)\n",
    "    return phrase"
   ]
  },
  {
   "cell_type": "code",
   "execution_count": 29,
   "metadata": {
    "colab": {
     "base_uri": "https://localhost:8080/",
     "height": 72
    },
    "colab_type": "code",
    "id": "N-4Eo3Yrz7Bw",
    "outputId": "25c6f90a-b606-485d-fdec-6e6f62977a38"
   },
   "outputs": [
    {
     "name": "stdout",
     "output_type": "stream",
     "text": [
      "I use these to keep my finicky toddler is protein levels up. What is great, is that they are delicious just about any way you can imagine cooking a sausage!A favorite Recipe: Sautee one large onion, about a tablespoon each dried basil and oregano, and some salt and pepper in about 2T of butter. Add sausage, that is been cut into coins, and russet potatoes cut into 1/4\" thick rounds. Cover all with chicken stock and simmer until potatoes are soft but not dissolved. Throw in a few handfuls of pre-washed baby spinach (I usually use about a half a pound, and frozen would work fine, just put it in a minute earlier). Stir until the spinach is cooked, and then serve! Enjoy!\n",
      "==================================================\n"
     ]
    }
   ],
   "source": [
    "sent_2 = decontracted(soup2.text)\n",
    "print(sent_2)\n",
    "print(\"=\"*50)"
   ]
  },
  {
   "cell_type": "code",
   "execution_count": 30,
   "metadata": {
    "colab": {
     "base_uri": "https://localhost:8080/",
     "height": 54
    },
    "colab_type": "code",
    "id": "RIavTra3z7B1",
    "outputId": "852ed027-bcab-472b-ceb3-32acc889bb52"
   },
   "outputs": [
    {
     "name": "stdout",
     "output_type": "stream",
     "text": [
      "Why is this $[...] when the same product is available for $[...] here? />The Victor  and  traps are unreal, of course -- total fly genocide. Pretty stinky, but only right nearby.\n"
     ]
    }
   ],
   "source": [
    "sent_0 = re.sub(\"\\S*\\d\\S*\", \"\", soup0.text).strip()\n",
    "print(sent_0)"
   ]
  },
  {
   "cell_type": "code",
   "execution_count": 31,
   "metadata": {
    "colab": {
     "base_uri": "https://localhost:8080/",
     "height": 54
    },
    "colab_type": "code",
    "id": "J-384uB5z7B6",
    "outputId": "ad235d70-5541-425b-ae18-ae20f0392af5"
   },
   "outputs": [
    {
     "name": "stdout",
     "output_type": "stream",
     "text": [
      "Why is this when the same product is available for here The Victor and traps are unreal of course total fly genocide Pretty stinky but only right nearby \n"
     ]
    }
   ],
   "source": [
    "sent_0 = re.sub('[^A-Za-z0-9]+', ' ', sent_0)\n",
    "print(sent_0)"
   ]
  },
  {
   "cell_type": "code",
   "execution_count": 32,
   "metadata": {
    "colab": {
     "base_uri": "https://localhost:8080/",
     "height": 69
    },
    "colab_type": "code",
    "id": "30emsNcmz7CA",
    "outputId": "c67a38f6-b6c4-403d-9d4a-0766504b7d8f"
   },
   "outputs": [
    {
     "name": "stdout",
     "output_type": "stream",
     "text": [
      "[nltk_data] Downloading package stopwords to /root/nltk_data...\n",
      "[nltk_data]   Unzipping corpora/stopwords.zip.\n"
     ]
    },
    {
     "data": {
      "text/plain": [
       "True"
      ]
     },
     "execution_count": 32,
     "metadata": {
      "tags": []
     },
     "output_type": "execute_result"
    }
   ],
   "source": [
    "import nltk\n",
    "nltk.download('stopwords')"
   ]
  },
  {
   "cell_type": "code",
   "execution_count": 33,
   "metadata": {
    "colab": {
     "base_uri": "https://localhost:8080/",
     "height": 1000
    },
    "colab_type": "code",
    "id": "o58r4wfPz7CE",
    "outputId": "b748822d-fbc7-43a3-b29b-fa3fc1adf186"
   },
   "outputs": [
    {
     "data": {
      "text/plain": [
       "['i',\n",
       " 'me',\n",
       " 'my',\n",
       " 'myself',\n",
       " 'we',\n",
       " 'our',\n",
       " 'ours',\n",
       " 'ourselves',\n",
       " 'you',\n",
       " \"you're\",\n",
       " \"you've\",\n",
       " \"you'll\",\n",
       " \"you'd\",\n",
       " 'your',\n",
       " 'yours',\n",
       " 'yourself',\n",
       " 'yourselves',\n",
       " 'he',\n",
       " 'him',\n",
       " 'his',\n",
       " 'himself',\n",
       " 'she',\n",
       " \"she's\",\n",
       " 'her',\n",
       " 'hers',\n",
       " 'herself',\n",
       " 'it',\n",
       " \"it's\",\n",
       " 'its',\n",
       " 'itself',\n",
       " 'they',\n",
       " 'them',\n",
       " 'their',\n",
       " 'theirs',\n",
       " 'themselves',\n",
       " 'what',\n",
       " 'which',\n",
       " 'who',\n",
       " 'whom',\n",
       " 'this',\n",
       " 'that',\n",
       " \"that'll\",\n",
       " 'these',\n",
       " 'those',\n",
       " 'am',\n",
       " 'is',\n",
       " 'are',\n",
       " 'was',\n",
       " 'were',\n",
       " 'be',\n",
       " 'been',\n",
       " 'being',\n",
       " 'have',\n",
       " 'has',\n",
       " 'had',\n",
       " 'having',\n",
       " 'do',\n",
       " 'does',\n",
       " 'did',\n",
       " 'doing',\n",
       " 'a',\n",
       " 'an',\n",
       " 'the',\n",
       " 'and',\n",
       " 'but',\n",
       " 'if',\n",
       " 'or',\n",
       " 'because',\n",
       " 'as',\n",
       " 'until',\n",
       " 'while',\n",
       " 'of',\n",
       " 'at',\n",
       " 'by',\n",
       " 'for',\n",
       " 'with',\n",
       " 'about',\n",
       " 'against',\n",
       " 'between',\n",
       " 'into',\n",
       " 'through',\n",
       " 'during',\n",
       " 'before',\n",
       " 'after',\n",
       " 'above',\n",
       " 'below',\n",
       " 'to',\n",
       " 'from',\n",
       " 'up',\n",
       " 'down',\n",
       " 'in',\n",
       " 'out',\n",
       " 'on',\n",
       " 'off',\n",
       " 'over',\n",
       " 'under',\n",
       " 'again',\n",
       " 'further',\n",
       " 'then',\n",
       " 'once',\n",
       " 'here',\n",
       " 'there',\n",
       " 'when',\n",
       " 'where',\n",
       " 'why',\n",
       " 'how',\n",
       " 'all',\n",
       " 'any',\n",
       " 'both',\n",
       " 'each',\n",
       " 'few',\n",
       " 'more',\n",
       " 'most',\n",
       " 'other',\n",
       " 'some',\n",
       " 'such',\n",
       " 'no',\n",
       " 'nor',\n",
       " 'not',\n",
       " 'only',\n",
       " 'own',\n",
       " 'same',\n",
       " 'so',\n",
       " 'than',\n",
       " 'too',\n",
       " 'very',\n",
       " 's',\n",
       " 't',\n",
       " 'can',\n",
       " 'will',\n",
       " 'just',\n",
       " 'don',\n",
       " \"don't\",\n",
       " 'should',\n",
       " \"should've\",\n",
       " 'now',\n",
       " 'd',\n",
       " 'll',\n",
       " 'm',\n",
       " 'o',\n",
       " 're',\n",
       " 've',\n",
       " 'y',\n",
       " 'ain',\n",
       " 'aren',\n",
       " \"aren't\",\n",
       " 'couldn',\n",
       " \"couldn't\",\n",
       " 'didn',\n",
       " \"didn't\",\n",
       " 'doesn',\n",
       " \"doesn't\",\n",
       " 'hadn',\n",
       " \"hadn't\",\n",
       " 'hasn',\n",
       " \"hasn't\",\n",
       " 'haven',\n",
       " \"haven't\",\n",
       " 'isn',\n",
       " \"isn't\",\n",
       " 'ma',\n",
       " 'mightn',\n",
       " \"mightn't\",\n",
       " 'mustn',\n",
       " \"mustn't\",\n",
       " 'needn',\n",
       " \"needn't\",\n",
       " 'shan',\n",
       " \"shan't\",\n",
       " 'shouldn',\n",
       " \"shouldn't\",\n",
       " 'wasn',\n",
       " \"wasn't\",\n",
       " 'weren',\n",
       " \"weren't\",\n",
       " 'won',\n",
       " \"won't\",\n",
       " 'wouldn',\n",
       " \"wouldn't\"]"
      ]
     },
     "execution_count": 33,
     "metadata": {
      "tags": []
     },
     "output_type": "execute_result"
    }
   ],
   "source": [
    "from nltk.corpus import stopwords\n",
    "stopwords.words('english')"
   ]
  },
  {
   "cell_type": "code",
   "execution_count": 34,
   "metadata": {
    "colab": {},
    "colab_type": "code",
    "id": "VscciVWmz7CL"
   },
   "outputs": [],
   "source": [
    "# we are removing the words from the stop words list: 'no', 'nor', 'not'\n",
    "\n",
    "\n",
    "stopwords= set(['the', 'i', 'me', 'my', 'myself', 'we', 'our', 'ours', 'ourselves', 'you', \"you're\", \"you've\",\\\n",
    "            \"you'll\", \"you'd\", 'your', 'yours', 'yourself', 'yourselves', 'he', 'him', 'his', 'himself', \\\n",
    "            'she', \"she's\", 'her', 'hers', 'herself', 'it', \"it's\", 'its', 'itself', 'they', 'them', 'their',\\\n",
    "            'theirs', 'themselves', 'what', 'which', 'who', 'whom', 'this', 'that', \"that'll\", 'these', 'those', \\\n",
    "            'am', 'is', 'are', 'was', 'were', 'be', 'been', 'being', 'have', 'has', 'had', 'having', 'do', 'does', \\\n",
    "            'did', 'doing', 'a', 'an', 'the', 'and', 'but', 'if', 'or', 'because', 'as', 'until', 'while', 'of', \\\n",
    "            'at', 'by', 'for', 'with', 'about', 'against', 'between', 'into', 'through', 'during', 'before', 'after',\\\n",
    "            'above', 'below', 'to', 'from', 'up', 'down', 'in', 'out', 'on', 'off', 'over', 'under', 'again', 'further',\\\n",
    "            'then', 'once', 'here', 'there', 'when', 'where', 'why', 'how', 'all', 'any', 'both', 'each', 'few', 'more',\\\n",
    "            'most', 'other', 'some', 'such', 'only', 'own', 'same', 'so', 'than', 'too', 'very', \\\n",
    "            's', 't', 'can', 'will', 'just', 'don', \"don't\", 'should', \"should've\", 'now', 'd', 'll', 'm', 'o', 're', \\\n",
    "            've', 'y', 'ain', 'aren', \"aren't\", 'couldn', \"couldn't\", 'didn', \"didn't\", 'doesn', \"doesn't\", 'hadn',\\\n",
    "            \"hadn't\", 'hasn', \"hasn't\", 'haven', \"haven't\", 'isn', \"isn't\", 'ma', 'mightn', \"mightn't\", 'mustn',\\\n",
    "            \"mustn't\", 'needn', \"needn't\", 'shan', \"shan't\", 'shouldn', \"shouldn't\", 'wasn', \"wasn't\", 'weren', \"weren't\", \\\n",
    "            'won', \"won't\", 'wouldn', \"wouldn't\"])"
   ]
  },
  {
   "cell_type": "code",
   "execution_count": 35,
   "metadata": {
    "colab": {
     "base_uri": "https://localhost:8080/",
     "height": 34
    },
    "colab_type": "code",
    "id": "IUyzNiPCz7CP",
    "outputId": "f6ac68c4-7603-4f3c-f2fa-8ef61b4537a2"
   },
   "outputs": [
    {
     "name": "stderr",
     "output_type": "stream",
     "text": [
      "100%|██████████| 4986/4986 [00:01<00:00, 2578.39it/s]\n"
     ]
    }
   ],
   "source": [
    "from tqdm import tqdm\n",
    "preprocessed_reviews = []\n",
    "\n",
    "for sentance in tqdm(final['Text'].values):\n",
    "    sentance = re.sub(r\"http\\S+\", \"\", sentance)\n",
    "    sentance = BeautifulSoup(sentance, 'lxml').get_text()\n",
    "    sentance = decontracted(sentance)\n",
    "    sentance = re.sub(\"\\S*\\d\\S*\", \"\", sentance).strip()\n",
    "    sentance = re.sub('[^A-Za-z]+', ' ', sentance)\n",
    "    # https://gist.github.com/sebleier/554280\n",
    "    sentance = ' '.join(e.lower() for e in sentance.split() if e.lower() not in stopwords)\n",
    "    preprocessed_reviews.append(sentance.strip())"
   ]
  },
  {
   "cell_type": "code",
   "execution_count": 36,
   "metadata": {
    "colab": {
     "base_uri": "https://localhost:8080/",
     "height": 89
    },
    "colab_type": "code",
    "id": "9q3LYXR-z7CX",
    "outputId": "9ea0b327-8c6d-4514-cdac-eda2274ebb17"
   },
   "outputs": [
    {
     "data": {
      "text/plain": [
       "('thank goodness mexgrocer love pico pica sauce cannot find product local grocery stores anymore internet shopping makes living podunk town bearable no long lists saved occasional trip big city first name basis ups fedex drivers usps shipments hit miss fit mailbox great not saddle head town pico pica favorite product good love',\n",
       " 'although seems like great product definitely not minced cans say minced not ground beef cat likes minced not chunks not ground although eat ground cat food sometimes inviting delicious yet walks away hate packaging lies contents product shipping speedy value great long deliver promise stuck food cat wont eat',\n",
       " 'wow far two two star reviews one obviously no idea ordering wants crispy cookies hey sorry reviews nobody good beyond reminding us look ordering chocolate oatmeal cookies not like combination not order type cookie find combo quite nice really oatmeal sort calms rich chocolate flavor gives cookie sort coconut type consistency let also remember tastes differ given opinion soft chewy cookies advertised not crispy cookies blurb would say crispy rather chewy happen like raw cookie dough however not see taste like raw cookie dough soft however confusion yes stick together soft cookies tend not individually wrapped would add cost oh yeah chocolate chip cookies tend somewhat sweet want something hard crisp suggest nabiso ginger snaps want cookie soft chewy tastes like combination chocolate oatmeal give try place second order')"
      ]
     },
     "execution_count": 36,
     "metadata": {
      "tags": []
     },
     "output_type": "execute_result"
    }
   ],
   "source": [
    "preprocessed_reviews[15],preprocessed_reviews[100],preprocessed_reviews[1500]"
   ]
  },
  {
   "cell_type": "markdown",
   "metadata": {
    "colab_type": "text",
    "id": "jOr4kvclz7Cd"
   },
   "source": [
    "# Featurization"
   ]
  },
  {
   "cell_type": "markdown",
   "metadata": {
    "colab_type": "text",
    "id": "JVhCdW55z7Cf"
   },
   "source": [
    "### Bag of words\n",
    "- most primitive"
   ]
  },
  {
   "cell_type": "code",
   "execution_count": 37,
   "metadata": {
    "colab": {
     "base_uri": "https://localhost:8080/",
     "height": 34
    },
    "colab_type": "code",
    "id": "zNzPUHx_z7Cg",
    "outputId": "dd0fa1b3-2109-41e3-e87f-3ab87b6f717a"
   },
   "outputs": [
    {
     "name": "stdout",
     "output_type": "stream",
     "text": [
      "['aa', 'aahhhs', 'aback', 'abandon', 'abates', 'abbott', 'abby', 'abdominal', 'abiding', 'ability']\n"
     ]
    }
   ],
   "source": [
    "from sklearn.feature_extraction.text import CountVectorizer\n",
    "\n",
    "count_vect = CountVectorizer() #in scikit-learn\n",
    "count_vect.fit(preprocessed_reviews)\n",
    "print( count_vect.get_feature_names()[:10])"
   ]
  },
  {
   "cell_type": "code",
   "execution_count": 38,
   "metadata": {
    "colab": {
     "base_uri": "https://localhost:8080/",
     "height": 34
    },
    "colab_type": "code",
    "id": "yeX89hTQz7Ck",
    "outputId": "74f5703e-ccc3-4676-e6d9-2e6bf6098022"
   },
   "outputs": [
    {
     "name": "stdout",
     "output_type": "stream",
     "text": [
      "No. of unique words in the corpus =  12997\n"
     ]
    }
   ],
   "source": [
    "print('No. of unique words in the corpus = ',len(count_vect.get_feature_names()) )"
   ]
  },
  {
   "cell_type": "code",
   "execution_count": 39,
   "metadata": {
    "colab": {
     "base_uri": "https://localhost:8080/",
     "height": 34
    },
    "colab_type": "code",
    "id": "S-h-7NpCz7Co",
    "outputId": "9c01d393-a0c3-444e-a070-710cc1ec4da8"
   },
   "outputs": [
    {
     "name": "stdout",
     "output_type": "stream",
     "text": [
      "Transformed shape of the reviews  (4986, 12997)\n"
     ]
    }
   ],
   "source": [
    "final_counts = count_vect.transform(preprocessed_reviews)\n",
    "print('Transformed shape of the reviews ',final_counts.get_shape())"
   ]
  },
  {
   "cell_type": "markdown",
   "metadata": {
    "colab_type": "text",
    "id": "D_PYy9T4z7Cu"
   },
   "source": [
    "### n-Grams"
   ]
  },
  {
   "cell_type": "code",
   "execution_count": 40,
   "metadata": {
    "colab": {
     "base_uri": "https://localhost:8080/",
     "height": 72
    },
    "colab_type": "code",
    "id": "yvR3VgClz7Cv",
    "outputId": "c2f2e61b-01b5-419c-cbba-9e343f702913"
   },
   "outputs": [
    {
     "name": "stdout",
     "output_type": "stream",
     "text": [
      "['ability', 'able', 'able find', 'able get', 'absolute', 'absolutely', 'absolutely delicious', 'absolutely love', 'absolutely no', 'according']\n"
     ]
    },
    {
     "data": {
      "text/plain": [
       "3136"
      ]
     },
     "execution_count": 40,
     "metadata": {
      "tags": []
     },
     "output_type": "execute_result"
    }
   ],
   "source": [
    "#ngram_range=(1,2) makes unigram and bigrams\n",
    "#min_df=10, it ignore all the words whose document frequency is less than 10\n",
    "#max_features=5000, build a vocabulary that only consider the top 5000 features based on document frequency\n",
    "count_vect = CountVectorizer(ngram_range=(1,2), min_df=10, max_features=5000)\n",
    "count_vect.fit(preprocessed_reviews)\n",
    "print(count_vect.get_feature_names()[:10])\n",
    "len(count_vect.get_feature_names())\n"
   ]
  },
  {
   "cell_type": "code",
   "execution_count": 41,
   "metadata": {
    "colab": {
     "base_uri": "https://localhost:8080/",
     "height": 52
    },
    "colab_type": "code",
    "id": "mp4AHM3dz7C0",
    "outputId": "39076211-05ad-4b84-b17d-01f9f9308217"
   },
   "outputs": [
    {
     "name": "stdout",
     "output_type": "stream",
     "text": [
      "Transformed shape of the reviews  (4986, 3136)\n",
      "No. of unique words including both unigrams and bigrams  3136\n"
     ]
    }
   ],
   "source": [
    "final_ngram_counts = count_vect.transform(preprocessed_reviews)\n",
    "\n",
    "print('Transformed shape of the reviews ',final_ngram_counts.get_shape())\n",
    "print(\"No. of unique words including both unigrams and bigrams \", final_ngram_counts.get_shape()[1])"
   ]
  },
  {
   "cell_type": "markdown",
   "metadata": {
    "colab_type": "text",
    "id": "DRviWi7_z7C3"
   },
   "source": [
    "### TF-IDF"
   ]
  },
  {
   "cell_type": "code",
   "execution_count": 42,
   "metadata": {
    "colab": {},
    "colab_type": "code",
    "id": "E7iZJD3Bz7C4"
   },
   "outputs": [],
   "source": [
    "from sklearn.feature_extraction.text import TfidfVectorizer"
   ]
  },
  {
   "cell_type": "code",
   "execution_count": 43,
   "metadata": {
    "colab": {
     "base_uri": "https://localhost:8080/",
     "height": 72
    },
    "colab_type": "code",
    "id": "y550ly7Uz7C8",
    "outputId": "0b7da588-4f1e-493b-90a2-f6bb5e3fc4ce"
   },
   "outputs": [
    {
     "name": "stdout",
     "output_type": "stream",
     "text": [
      "some unique words in the corpus ['ability', 'able', 'able find', 'able get', 'absolute', 'absolutely', 'absolutely delicious', 'absolutely love', 'absolutely no', 'according']\n",
      "No. of unique words  3136\n"
     ]
    }
   ],
   "source": [
    "tf_idf_vect = TfidfVectorizer(ngram_range=(1,2), min_df=10)\n",
    "tf_idf_vect.fit(preprocessed_reviews)\n",
    "print(\"some unique words in the corpus\",tf_idf_vect.get_feature_names()[0:10])\n",
    "print(\"No. of unique words \",len(tf_idf_vect.get_feature_names()) )"
   ]
  },
  {
   "cell_type": "markdown",
   "metadata": {
    "colab_type": "text",
    "id": "LRgskOT5z7C_"
   },
   "source": [
    "### Word2Vec\n",
    "- best for featurization of words \n",
    "- deep learning based technique, state of art"
   ]
  },
  {
   "cell_type": "code",
   "execution_count": 44,
   "metadata": {
    "colab": {},
    "colab_type": "code",
    "id": "JXHIqIAoz7DA"
   },
   "outputs": [],
   "source": [
    "i=0\n",
    "list_of_sentence=[]\n",
    "for sentence in preprocessed_reviews:\n",
    "    list_of_sentence.append(sentence.split())"
   ]
  },
  {
   "cell_type": "code",
   "execution_count": 45,
   "metadata": {
    "colab": {
     "base_uri": "https://localhost:8080/",
     "height": 106
    },
    "colab_type": "code",
    "id": "5I7peoSLz7DD",
    "outputId": "8f36edfc-b256-494d-a318-e893d874f942"
   },
   "outputs": [
    {
     "name": "stdout",
     "output_type": "stream",
     "text": [
      "[('excellent', 0.9964052438735962), ('overall', 0.9950978755950928), ('especially', 0.9950581789016724), ('amazing', 0.9949620962142944), ('think', 0.994940459728241), ('anything', 0.9948310256004333), ('certainly', 0.9948068261146545), ('fantastic', 0.9946520924568176), ('decent', 0.994638204574585), ('missing', 0.9946020245552063)]\n",
      "[('experience', 0.9993118643760681), ('stash', 0.9992848634719849), ('opinion', 0.999283492565155), ('kind', 0.9992634654045105), ('varieties', 0.9992591738700867), ('looks', 0.9992371797561646), ('yes', 0.9992362856864929), ('choice', 0.9992349743843079), ('candies', 0.9992179274559021), ('provides', 0.9992164969444275)]\n"
     ]
    },
    {
     "name": "stderr",
     "output_type": "stream",
     "text": [
      "/usr/local/lib/python3.6/dist-packages/gensim/matutils.py:737: FutureWarning: Conversion of the second argument of issubdtype from `int` to `np.signedinteger` is deprecated. In future, it will be treated as `np.int64 == np.dtype(int).type`.\n",
      "  if np.issubdtype(vec.dtype, np.int):\n"
     ]
    }
   ],
   "source": [
    "from gensim.models import Word2Vec\n",
    "\n",
    "#training from the data corpse\n",
    "w2v_model=Word2Vec(list_of_sentence,min_count=5,size=50, workers=4)\n",
    "print(w2v_model.wv.most_similar('great'))\n",
    "print(w2v_model.wv.most_similar('worst'))"
   ]
  },
  {
   "cell_type": "code",
   "execution_count": 46,
   "metadata": {
    "colab": {
     "base_uri": "https://localhost:8080/",
     "height": 208
    },
    "colab_type": "code",
    "id": "oIz0uyIHz7DH",
    "outputId": "432a26a3-b785-419d-fd85-1b5c77be8f09"
   },
   "outputs": [
    {
     "data": {
      "text/plain": [
       "(3817,\n",
       " ['product',\n",
       "  'available',\n",
       "  'course',\n",
       "  'total',\n",
       "  'pretty',\n",
       "  'stinky',\n",
       "  'right',\n",
       "  'nearby',\n",
       "  'used',\n",
       "  'ca'])"
      ]
     },
     "execution_count": 46,
     "metadata": {
      "tags": []
     },
     "output_type": "execute_result"
    }
   ],
   "source": [
    "w2v_words = list(w2v_model.wv.vocab)\n",
    "len(w2v_words),w2v_words[:10]"
   ]
  },
  {
   "cell_type": "code",
   "execution_count": 47,
   "metadata": {
    "colab": {
     "base_uri": "https://localhost:8080/",
     "height": 208
    },
    "colab_type": "code",
    "id": "ajBrzKrnz7DL",
    "outputId": "f1473fca-315a-4acd-84fc-a5356bc438cb"
   },
   "outputs": [
    {
     "data": {
      "text/plain": [
       "array([-0.25989193, -0.09808164,  0.12387366, -0.10022382, -0.01637704,\n",
       "       -0.08743824, -0.22258346, -0.1098413 ,  0.47456637, -0.14572722,\n",
       "       -0.03649822, -0.32371902,  0.24774805, -0.25842443,  0.02903451,\n",
       "       -0.1538299 ,  0.00755489,  0.2096721 , -0.08711423, -0.32394108,\n",
       "       -0.29852918,  0.1184188 ,  0.1561531 ,  0.09942054,  0.22128399,\n",
       "        0.0603071 ,  0.37517396, -0.30275443,  0.01597682, -0.08330914,\n",
       "        0.02438149,  0.01621526, -0.36376843, -0.03131573, -0.08284258,\n",
       "        0.04640486, -0.17352572,  0.6332339 ,  0.56060433,  0.17602092,\n",
       "       -0.34621584, -0.10539543, -0.19884378,  0.14891571, -0.33827236,\n",
       "        0.21596794, -0.22772104, -0.09617656, -0.11770812, -0.06374934],\n",
       "      dtype=float32)"
      ]
     },
     "execution_count": 47,
     "metadata": {
      "tags": []
     },
     "output_type": "execute_result"
    }
   ],
   "source": [
    "w2v_model.wv['play']  #gives word embedding if the word is present in the vocabulary\n",
    "                      # doesn't gove result for the  word ='hero'"
   ]
  },
  {
   "cell_type": "code",
   "execution_count": 48,
   "metadata": {
    "colab": {
     "base_uri": "https://localhost:8080/",
     "height": 72
    },
    "colab_type": "code",
    "id": "xvlFEaWgz7DU",
    "outputId": "740b136f-fe43-49c0-c3c7-4f107358c6e7"
   },
   "outputs": [
    {
     "name": "stdout",
     "output_type": "stream",
     "text": [
      "number of words that occured minimum 5 times  3817\n",
      "sample words  ['product', 'available', 'course', 'total', 'pretty', 'stinky', 'right', 'nearby', 'used', 'ca', 'not', 'beat', 'great', 'received', 'shipment', 'could', 'hardly', 'wait', 'try', 'love', 'call', 'instead', 'removed', 'easily', 'daughter', 'designed', 'printed', 'use', 'car', 'windows', 'beautifully', 'shop', 'program', 'going', 'lot', 'fun', 'everywhere', 'like', 'tv', 'computer', 'really', 'good', 'idea', 'final', 'outstanding', 'window', 'everybody', 'asks', 'bought', 'made']\n"
     ]
    }
   ],
   "source": [
    "w2v_words = list(w2v_model.wv.vocab)\n",
    "print(\"number of words that occured minimum 5 times \",len(w2v_words))\n",
    "print(\"sample words \", w2v_words[0:50])"
   ]
  },
  {
   "cell_type": "markdown",
   "metadata": {
    "colab_type": "text",
    "id": "L56fVqzCz7Da"
   },
   "source": [
    "## Converting  text into vectors"
   ]
  },
  {
   "cell_type": "markdown",
   "metadata": {
    "colab_type": "text",
    "id": "YQeL9cWEz7Db"
   },
   "source": [
    "#### Average word2vec"
   ]
  },
  {
   "cell_type": "code",
   "execution_count": 49,
   "metadata": {
    "colab": {},
    "colab_type": "code",
    "id": "2itij2r8z7Db"
   },
   "outputs": [],
   "source": [
    "import numpy as np "
   ]
  },
  {
   "cell_type": "code",
   "execution_count": 50,
   "metadata": {
    "colab": {
     "base_uri": "https://localhost:8080/",
     "height": 34
    },
    "colab_type": "code",
    "id": "P-NtWzw7z7De",
    "outputId": "cd69ddaf-b76c-4040-e64f-59bc64799b02"
   },
   "outputs": [
    {
     "name": "stderr",
     "output_type": "stream",
     "text": [
      "100%|██████████| 4986/4986 [00:05<00:00, 945.23it/s] \n"
     ]
    }
   ],
   "source": [
    "avg_w2v =[]\n",
    "for sentence in  tqdm(list_of_sentence):\n",
    "    emb_vec = np.zeros(50) #the words are 50 dim-vectors\n",
    "    count=0\n",
    "    for word in sentence:\n",
    "        if word in w2v_words:\n",
    "            vec= w2v_model.wv[word]\n",
    "            emb_vec += vec \n",
    "            count+=1\n",
    "    if (count!=0): emb_vec/=count\n",
    "    avg_w2v.append(emb_vec)"
   ]
  },
  {
   "cell_type": "code",
   "execution_count": 58,
   "metadata": {
    "colab": {
     "base_uri": "https://localhost:8080/",
     "height": 34
    },
    "colab_type": "code",
    "id": "cjJNM8JDz7Dj",
    "outputId": "aaaa7ecc-c0c9-43c5-9b41-e1e0ca7b528e"
   },
   "outputs": [
    {
     "name": "stdout",
     "output_type": "stream",
     "text": [
      "4986 50\n"
     ]
    }
   ],
   "source": [
    "print(len(avg_w2v),len(avg_w2v[0]))"
   ]
  },
  {
   "cell_type": "markdown",
   "metadata": {
    "colab_type": "text",
    "id": "6Y18HRhmz7Dm"
   },
   "source": [
    "#### TF-IDF weighted word2vec"
   ]
  },
  {
   "cell_type": "code",
   "execution_count": 59,
   "metadata": {
    "colab": {
     "base_uri": "https://localhost:8080/",
     "height": 139
    },
    "colab_type": "code",
    "id": "bIWXCLwUz7Do",
    "outputId": "486776c4-47cc-4013-c45b-0b53daeec48e"
   },
   "outputs": [
    {
     "data": {
      "text/plain": [
       "TfidfVectorizer(analyzer='word', binary=False, decode_error='strict',\n",
       "                dtype=<class 'numpy.float64'>, encoding='utf-8',\n",
       "                input='content', lowercase=True, max_df=1.0, max_features=None,\n",
       "                min_df=1, ngram_range=(1, 1), norm='l2', preprocessor=None,\n",
       "                smooth_idf=True, stop_words=None, strip_accents=None,\n",
       "                sublinear_tf=False, token_pattern='(?u)\\\\b\\\\w\\\\w+\\\\b',\n",
       "                tokenizer=None, use_idf=True, vocabulary=None)"
      ]
     },
     "execution_count": 59,
     "metadata": {
      "tags": []
     },
     "output_type": "execute_result"
    }
   ],
   "source": [
    "model = TfidfVectorizer()\n",
    "model.fit(preprocessed_reviews)"
   ]
  },
  {
   "cell_type": "code",
   "execution_count": 60,
   "metadata": {
    "colab": {},
    "colab_type": "code",
    "id": "OwQb3qVwz7Du"
   },
   "outputs": [],
   "source": [
    "words_tf_weight = dict(zip(model.get_feature_names(),list(model.idf_))) #words as the key and the idf as value "
   ]
  },
  {
   "cell_type": "code",
   "execution_count": 61,
   "metadata": {
    "colab": {
     "base_uri": "https://localhost:8080/",
     "height": 34
    },
    "colab_type": "code",
    "id": "FqOwN1Kkz7Dy",
    "outputId": "a3f415f4-47ef-48ce-d816-2ce7f50e6a67"
   },
   "outputs": [
    {
     "name": "stderr",
     "output_type": "stream",
     "text": [
      "100%|██████████| 4986/4986 [00:07<00:00, 694.71it/s]\n"
     ]
    }
   ],
   "source": [
    "tfidf_w2v =[]\n",
    "for sentence in  tqdm(list_of_sentence):\n",
    "    emb_vec = np.zeros(50) #the words are 50 dim-vectors\n",
    "    sum_tfidf=0\n",
    "    for word in sentence:\n",
    "        if word in w2v_words and word in words_tf_weight:\n",
    "            vec= w2v_model.wv[word]\n",
    "            tf_idf = words_tf_weight[word]*(sentence.count(word)/len(sentence))\n",
    "            emb_vec += tf_idf*vec\n",
    "            sum_tfidf += tf_idf\n",
    "    \n",
    "    if (sum_tfidf!=0): emb_vec/=sum_tfidf\n",
    "    tfidf_w2v.append(emb_vec)"
   ]
  },
  {
   "cell_type": "code",
   "execution_count": 62,
   "metadata": {
    "colab": {
     "base_uri": "https://localhost:8080/",
     "height": 34
    },
    "colab_type": "code",
    "id": "sm8OCDG9z7D3",
    "outputId": "e94d6b70-d07d-4673-9e8b-87638f43f24f"
   },
   "outputs": [
    {
     "data": {
      "text/plain": [
       "4986"
      ]
     },
     "execution_count": 62,
     "metadata": {
      "tags": []
     },
     "output_type": "execute_result"
    }
   ],
   "source": [
    "len(tfidf_w2v)"
   ]
  },
  {
   "cell_type": "markdown",
   "metadata": {
    "colab_type": "text",
    "id": "SA7BkSBiz7D5"
   },
   "source": [
    "# Dimension reduction using TSNE "
   ]
  },
  {
   "cell_type": "markdown",
   "metadata": {
    "colab_type": "text",
    "id": "7BN_1eGcz7D6"
   },
   "source": [
    "##### TSNE on average w2v"
   ]
  },
  {
   "cell_type": "code",
   "execution_count": 63,
   "metadata": {
    "colab": {
     "base_uri": "https://localhost:8080/",
     "height": 34
    },
    "colab_type": "code",
    "id": "H-6NiboWz7D7",
    "outputId": "5942eb9d-f655-418f-c089-c66a53361cf1"
   },
   "outputs": [
    {
     "data": {
      "text/plain": [
       "(4986, 50)"
      ]
     },
     "execution_count": 63,
     "metadata": {
      "tags": []
     },
     "output_type": "execute_result"
    }
   ],
   "source": [
    "from sklearn.preprocessing import StandardScaler\n",
    "std_avg_w2v=StandardScaler().fit_transform(avg_w2v)\n",
    "std_avg_w2v.shape"
   ]
  },
  {
   "cell_type": "code",
   "execution_count": 64,
   "metadata": {
    "colab": {
     "base_uri": "https://localhost:8080/",
     "height": 34
    },
    "colab_type": "code",
    "id": "uu8nHg3Mz7EA",
    "outputId": "d58420da-8335-4936-dc89-67f735348f34"
   },
   "outputs": [
    {
     "data": {
      "text/plain": [
       "(808, 4178)"
      ]
     },
     "execution_count": 64,
     "metadata": {
      "tags": []
     },
     "output_type": "execute_result"
    }
   ],
   "source": [
    "positives  = np.sum(final['Score']==0)\n",
    "negatives  = np.sum(final['Score']==1)\n",
    "positives, negatives"
   ]
  },
  {
   "cell_type": "code",
   "execution_count": 65,
   "metadata": {
    "colab": {},
    "colab_type": "code",
    "id": "WEC6NSWsz7EG"
   },
   "outputs": [],
   "source": [
    "#unbalanced dataset \n",
    "labels = final['Score']"
   ]
  },
  {
   "cell_type": "code",
   "execution_count": 66,
   "metadata": {
    "colab": {
     "base_uri": "https://localhost:8080/",
     "height": 34
    },
    "colab_type": "code",
    "id": "4gEtxrFAz7EI",
    "outputId": "36a76a95-b1e4-4126-9177-8a861364298d"
   },
   "outputs": [
    {
     "data": {
      "text/plain": [
       "(4986, 2)"
      ]
     },
     "execution_count": 66,
     "metadata": {
      "tags": []
     },
     "output_type": "execute_result"
    }
   ],
   "source": [
    "from sklearn.manifold import TSNE\n",
    "model =TSNE(n_components=2, random_state=0)\n",
    "# default perplexity = 30\n",
    "# default learning rate = 200\n",
    "# default Maximum number of iterations for the optimization = 1000\n",
    "\n",
    "tsne_emb =model.fit_transform(std_avg_w2v)\n",
    "tsne_emb.shape"
   ]
  },
  {
   "cell_type": "code",
   "execution_count": 67,
   "metadata": {
    "colab": {
     "base_uri": "https://localhost:8080/",
     "height": 441
    },
    "colab_type": "code",
    "id": "rAADdJ_0z7EM",
    "outputId": "bb49f932-97e6-4170-a167-5495c5e3fc6a"
   },
   "outputs": [
    {
     "data": {
      "image/png": "[encoded data removed]",
      "text/plain": [
       "<Figure size 483.875x432 with 1 Axes>"
      ]
     },
     "metadata": {
      "needs_background": "light",
      "tags": []
     },
     "output_type": "display_data"
    }
   ],
   "source": [
    "import seaborn as sn\n",
    "import matplotlib.pyplot as plt \n",
    "tsne_data = np.vstack((tsne_emb.T, labels)).T\n",
    "tsne_df = pd.DataFrame(data=tsne_data, columns=(\"Dim_1\", \"Dim_2\", \"label\"))\n",
    "sn.FacetGrid(tsne_df, hue=\"label\", height=6).map(plt.scatter, 'Dim_1', 'Dim_2').add_legend()\n",
    "\n",
    "plt.show()"
   ]
  },
  {
   "cell_type": "code",
   "execution_count": 68,
   "metadata": {
    "colab": {
     "base_uri": "https://localhost:8080/",
     "height": 34
    },
    "colab_type": "code",
    "id": "CABL6E_dz7ER",
    "outputId": "1d262d9e-92b8-48a7-d735-93db1a5ac8cd"
   },
   "outputs": [
    {
     "data": {
      "text/plain": [
       "(4986, 2)"
      ]
     },
     "execution_count": 68,
     "metadata": {
      "tags": []
     },
     "output_type": "execute_result"
    }
   ],
   "source": [
    "\n",
    "model =TSNE(n_components=2, random_state=0, n_iter=5000)\n",
    "# default perplexity = 30\n",
    "# default learning rate = 200\n",
    "# default Maximum number of iterations for the optimization = 1000\n",
    "\n",
    "tsne_emb =model.fit_transform(std_avg_w2v)\n",
    "tsne_emb.shape"
   ]
  },
  {
   "cell_type": "code",
   "execution_count": 69,
   "metadata": {
    "colab": {
     "base_uri": "https://localhost:8080/",
     "height": 441
    },
    "colab_type": "code",
    "id": "H9Pt4fEvz7EU",
    "outputId": "25145fdd-1b19-45fc-e11f-574fec6e3449"
   },
   "outputs": [
    {
     "data": {
      "image/png": "[encoded data removed]",
      "text/plain": [
       "<Figure size 483.875x432 with 1 Axes>"
      ]
     },
     "metadata": {
      "needs_background": "light",
      "tags": []
     },
     "output_type": "display_data"
    }
   ],
   "source": [
    "\n",
    "tsne_data = np.vstack((tsne_emb.T, labels)).T\n",
    "tsne_df = pd.DataFrame(data=tsne_data, columns=(\"Dim_1\", \"Dim_2\", \"label\"))\n",
    "sn.FacetGrid(tsne_df, hue=\"label\", height=6).map(plt.scatter, 'Dim_1', 'Dim_2').add_legend()\n",
    "\n",
    "plt.show()"
   ]
  },
  {
   "cell_type": "markdown",
   "metadata": {
    "colab_type": "text",
    "id": "3KzA7dnqz7EX"
   },
   "source": [
    "The 0 labelled reviews and 1 labelled reviews are not separable after dimension reduction by TSNE.The ouput didn't change on multiple runs or when increasing n_iter. "
   ]
  },
  {
   "cell_type": "code",
   "execution_count": 70,
   "metadata": {
    "colab": {
     "base_uri": "https://localhost:8080/",
     "height": 34
    },
    "colab_type": "code",
    "id": "PjA5P1AFz7EY",
    "outputId": "667b81a1-9514-423f-f248-3b894aaaf1e5"
   },
   "outputs": [
    {
     "data": {
      "text/plain": [
       "(4986, 2)"
      ]
     },
     "execution_count": 70,
     "metadata": {
      "tags": []
     },
     "output_type": "execute_result"
    }
   ],
   "source": [
    "model =TSNE(n_components=2, random_state=0,perplexity=50, n_iter=5000)\n",
    "# default perplexity = 30\n",
    "# default learning rate = 200\n",
    "# default Maximum number of iterations for the optimization = 1000\n",
    "\n",
    "tsne_emb =model.fit_transform(std_avg_w2v)\n",
    "tsne_emb.shape"
   ]
  },
  {
   "cell_type": "code",
   "execution_count": 71,
   "metadata": {
    "colab": {
     "base_uri": "https://localhost:8080/",
     "height": 441
    },
    "colab_type": "code",
    "id": "Pbl4yDJIz7Eq",
    "outputId": "29db6e7b-ab3b-4214-ecb2-766df9bb3158"
   },
   "outputs": [
    {
     "data": {
      "image/png": "[encoded data removed]",
      "text/plain": [
       "<Figure size 483.875x432 with 1 Axes>"
      ]
     },
     "metadata": {
      "needs_background": "light",
      "tags": []
     },
     "output_type": "display_data"
    }
   ],
   "source": [
    "\n",
    "tsne_data = np.vstack((tsne_emb.T, labels)).T\n",
    "tsne_df = pd.DataFrame(data=tsne_data, columns=(\"Dim_1\", \"Dim_2\", \"label\"))\n",
    "sn.FacetGrid(tsne_df, hue=\"label\", height=6).map(plt.scatter, 'Dim_1', 'Dim_2').add_legend()\n",
    "\n",
    "plt.show()"
   ]
  },
  {
   "cell_type": "markdown",
   "metadata": {
    "colab_type": "text",
    "id": "rKbUv88Uz7Et"
   },
   "source": [
    "Change  in perplexity didn't help much "
   ]
  },
  {
   "cell_type": "markdown",
   "metadata": {
    "colab_type": "text",
    "id": "YxsXX2Nkz7Et"
   },
   "source": [
    "##### TSNE on tfidf w2v"
   ]
  },
  {
   "cell_type": "code",
   "execution_count": 72,
   "metadata": {
    "colab": {
     "base_uri": "https://localhost:8080/",
     "height": 34
    },
    "colab_type": "code",
    "id": "weYoXT10z7Eu",
    "outputId": "d5aad45d-abab-4924-86f1-0ac1eab6afb3"
   },
   "outputs": [
    {
     "data": {
      "text/plain": [
       "(4986, 50)"
      ]
     },
     "execution_count": 72,
     "metadata": {
      "tags": []
     },
     "output_type": "execute_result"
    }
   ],
   "source": [
    "std_tfidf_w2v=StandardScaler().fit_transform(tfidf_w2v)\n",
    "std_tfidf_w2v.shape"
   ]
  },
  {
   "cell_type": "code",
   "execution_count": 73,
   "metadata": {
    "colab": {
     "base_uri": "https://localhost:8080/",
     "height": 34
    },
    "colab_type": "code",
    "id": "ed9iJhJXz7Ex",
    "outputId": "fc61b2b8-52eb-4f57-fbe1-db959edb60e4"
   },
   "outputs": [
    {
     "data": {
      "text/plain": [
       "(4986, 2)"
      ]
     },
     "execution_count": 73,
     "metadata": {
      "tags": []
     },
     "output_type": "execute_result"
    }
   ],
   "source": [
    "model =TSNE(n_components=2, random_state=0)\n",
    "# default perplexity = 30\n",
    "# default learning rate = 200\n",
    "# default Maximum number of iterations for the optimization = 1000\n",
    "\n",
    "tsne_emb =model.fit_transform(std_tfidf_w2v)\n",
    "tsne_emb.shape"
   ]
  },
  {
   "cell_type": "code",
   "execution_count": 74,
   "metadata": {
    "colab": {
     "base_uri": "https://localhost:8080/",
     "height": 441
    },
    "colab_type": "code",
    "id": "MGb9USXLz7E0",
    "outputId": "248a8bee-5a8f-4b7a-b8ab-9cf7e2fdb24a"
   },
   "outputs": [
    {
     "data": {
      "image/png": "[encoded data removed]",
      "text/plain": [
       "<Figure size 483.875x432 with 1 Axes>"
      ]
     },
     "metadata": {
      "needs_background": "light",
      "tags": []
     },
     "output_type": "display_data"
    }
   ],
   "source": [
    "tsne_data = np.vstack((tsne_emb.T, labels)).T\n",
    "tsne_df = pd.DataFrame(data=tsne_data, columns=(\"Dim_1\", \"Dim_2\", \"label\"))\n",
    "sn.FacetGrid(tsne_df, hue=\"label\", height=6).map(plt.scatter, 'Dim_1', 'Dim_2').add_legend()\n",
    "\n",
    "plt.show()"
   ]
  },
  {
   "cell_type": "code",
   "execution_count": 75,
   "metadata": {
    "colab": {
     "base_uri": "https://localhost:8080/",
     "height": 34
    },
    "colab_type": "code",
    "id": "iYOwlPYMz7E2",
    "outputId": "c48e532d-ec08-4351-d768-80d41dd1e569"
   },
   "outputs": [
    {
     "data": {
      "text/plain": [
       "(4986, 2)"
      ]
     },
     "execution_count": 75,
     "metadata": {
      "tags": []
     },
     "output_type": "execute_result"
    }
   ],
   "source": [
    "model =TSNE(n_components=2, random_state=0, n_iter=5000 )\n",
    "# default perplexity = 30\n",
    "# default learning rate = 200\n",
    "# default Maximum number of iterations for the optimization = 1000\n",
    "\n",
    "tsne_emb =model.fit_transform(std_tfidf_w2v)\n",
    "tsne_emb.shape"
   ]
  },
  {
   "cell_type": "code",
   "execution_count": 76,
   "metadata": {
    "colab": {
     "base_uri": "https://localhost:8080/",
     "height": 441
    },
    "colab_type": "code",
    "id": "z9f7vVroz7E6",
    "outputId": "a51d3521-1c45-4494-daf0-ada6826f2b11"
   },
   "outputs": [
    {
     "data": {
      "image/png": "[encoded data removed]",
      "text/plain": [
       "<Figure size 483.875x432 with 1 Axes>"
      ]
     },
     "metadata": {
      "needs_background": "light",
      "tags": []
     },
     "output_type": "display_data"
    }
   ],
   "source": [
    "tsne_data = np.vstack((tsne_emb.T, labels)).T\n",
    "tsne_df = pd.DataFrame(data=tsne_data, columns=(\"Dim_1\", \"Dim_2\", \"label\"))\n",
    "sn.FacetGrid(tsne_df, hue=\"label\", height=6).map(plt.scatter, 'Dim_1', 'Dim_2').add_legend()\n",
    "\n",
    "plt.show()"
   ]
  },
  {
   "cell_type": "markdown",
   "metadata": {
    "colab_type": "text",
    "id": "Z2HSN0XUz7FH"
   },
   "source": [
    "The output wasn't separable on two categories for tfidf word2vec too."
   ]
  },
  {
   "cell_type": "markdown",
   "metadata": {
    "colab_type": "text",
    "id": "THUqo2dAz7FI"
   },
   "source": [
    "So, now we use Googles's w2v to embed the words for accurate results."
   ]
  },
  {
   "cell_type": "markdown",
   "metadata": {
    "colab_type": "text",
    "id": "Kdt2qamZ0wED"
   },
   "source": [
    "# Use Google's W2V "
   ]
  },
  {
   "cell_type": "code",
   "execution_count": null,
   "metadata": {
    "colab": {
     "base_uri": "https://localhost:8080/",
     "height": 211
    },
    "colab_type": "code",
    "id": "6SynFsg_z7DP",
    "outputId": "a4598185-dace-4d2c-f076-d738dbc92314"
   },
   "outputs": [],
   "source": [
    "from gensim.models import KeyedVectors\n",
    "want_to_use_google_w2v=True \n",
    "is_your_ram_gt_16g=True #make it true to load google's w2v model \n",
    "#download and extract GoogleNews-vectors-negative300.bin from:\n",
    "#https://s3.amazonaws.com/dl4j-distribution/GoogleNews-vectors-negative300.bin.gz\n",
    "\n",
    "if want_to_use_google_w2v and is_your_ram_gt_16g:\n",
    "    w2v_model=KeyedVectors.load_word2vec_format('../Data/GoogleNews-vectors-negative300.bin', binary=True)\n",
    "    \n",
    "    "
   ]
  },
  {
   "cell_type": "code",
   "execution_count": null,
   "metadata": {
    "colab": {
     "base_uri": "https://localhost:8080/",
     "height": 106
    },
    "colab_type": "code",
    "id": "IANloXSt11oe",
    "outputId": "a463b243-affa-4c04-d817-29eb6bf123ba"
   },
   "outputs": [],
   "source": [
    "w2v_words = list(w2v_model.wv.vocab)\n"
   ]
  },
  {
   "cell_type": "code",
   "execution_count": null,
   "metadata": {
    "colab": {
     "base_uri": "https://localhost:8080/",
     "height": 106
    },
    "colab_type": "code",
    "id": "ZHvLLiSZ14wl",
    "outputId": "a41c6024-c894-4787-8f50-37a0127b8f84"
   },
   "outputs": [],
   "source": [
    "tfidf_w2v =[]\n",
    "for sentence in  tqdm(list_of_sentence):\n",
    "    emb_vec = np.zeros(300) #the vectors of Google news are 300 dim-vectors\n",
    "    sum_tfidf=0\n",
    "    for word in sentence:\n",
    "        if word in w2v_words and word in words_tf_weight:\n",
    "            vec= w2v_model.wv[word]\n",
    "            tf_idf = words_tf_weight[word]*(sentence.count(word)/len(sentence))\n",
    "            emb_vec += tf_idf*vec\n",
    "            sum_tfidf += tf_idf\n",
    "    \n",
    "    if (sum_tfidf!=0): emb_vec/=sum_tfidf\n",
    "    tfidf_w2v.append(emb_vec)\n"
   ]
  },
  {
   "cell_type": "code",
   "execution_count": 86,
   "metadata": {
    "colab": {
     "base_uri": "https://localhost:8080/",
     "height": 34
    },
    "colab_type": "code",
    "id": "AQ5KhZ-z27Fq",
    "outputId": "6b739e55-48c0-442f-ca1a-968f3f2e212a"
   },
   "outputs": [
    {
     "data": {
      "text/plain": [
       "(4986, 300)"
      ]
     },
     "execution_count": 86,
     "metadata": {
      "tags": []
     },
     "output_type": "execute_result"
    }
   ],
   "source": [
    "std_tfidf_w2v=StandardScaler().fit_transform(tfidf_w2v)\n",
    "std_tfidf_w2v.shape"
   ]
  },
  {
   "cell_type": "code",
   "execution_count": 87,
   "metadata": {
    "colab": {
     "base_uri": "https://localhost:8080/",
     "height": 34
    },
    "colab_type": "code",
    "id": "U0Fmt7ZZ3HbT",
    "outputId": "98b3d6e5-8c99-4743-dc15-517362b411b6"
   },
   "outputs": [
    {
     "data": {
      "text/plain": [
       "(4986, 2)"
      ]
     },
     "execution_count": 87,
     "metadata": {
      "tags": []
     },
     "output_type": "execute_result"
    }
   ],
   "source": [
    "model =TSNE(n_components=2, random_state=0)\n",
    "# default perplexity = 30\n",
    "# default learning rate = 200\n",
    "# default Maximum number of iterations for the optimization = 1000\n",
    "\n",
    "tsne_emb =model.fit_transform(std_tfidf_w2v)\n",
    "tsne_emb.shape"
   ]
  },
  {
   "cell_type": "code",
   "execution_count": 88,
   "metadata": {
    "colab": {
     "base_uri": "https://localhost:8080/",
     "height": 441
    },
    "colab_type": "code",
    "id": "544oxqE-3LUY",
    "outputId": "16a7964a-fbee-4e06-feec-3ec5a72f5060"
   },
   "outputs": [
    {
     "data": {
      "image/png": "[encoded data removed]",
      "text/plain": [
       "<Figure size 483.875x432 with 1 Axes>"
      ]
     },
     "metadata": {
      "needs_background": "light",
      "tags": []
     },
     "output_type": "display_data"
    }
   ],
   "source": [
    "tsne_data = np.vstack((tsne_emb.T, labels)).T\n",
    "tsne_df = pd.DataFrame(data=tsne_data, columns=(\"Dim_1\", \"Dim_2\", \"label\"))\n",
    "sn.FacetGrid(tsne_df, hue=\"label\", height=6).map(plt.scatter, 'Dim_1', 'Dim_2').add_legend()\n",
    "\n",
    "plt.show()"
   ]
  },
  {
   "cell_type": "markdown",
   "metadata": {
    "colab": {},
    "colab_type": "code",
    "id": "sN_vMtOngbGF"
   },
   "source": [
    "The category is not separable even with the use of embeddings provided by Google w2v."
   ]
  }
 ],
 "metadata": {
  "colab": {
   "collapsed_sections": [
    "h5UEY9cXz7AG",
    "-eHxJZPGz7BK",
    "jOr4kvclz7Cd",
    "JVhCdW55z7Cf",
    "D_PYy9T4z7Cu",
    "DRviWi7_z7C3",
    "YQeL9cWEz7Db",
    "SA7BkSBiz7D5",
    "Kdt2qamZ0wED"
   ],
   "name": "Text Preprocessing and Featurization.ipynb",
   "provenance": [],
   "toc_visible": true
  },
  "kernelspec": {
   "display_name": "envai",
   "language": "python",
   "name": "envai"
  },
  "language_info": {
   "codemirror_mode": {
    "name": "ipython",
    "version": 3
   },
   "file_extension": ".py",
   "mimetype": "text/x-python",
   "name": "python",
   "nbconvert_exporter": "python",
   "pygments_lexer": "ipython3",
   "version": "3.8.2"
  }
 },
 "nbformat": 4,
 "nbformat_minor": 1
}
