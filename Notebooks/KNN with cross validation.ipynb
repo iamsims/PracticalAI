{
 "cells": [
  {
   "cell_type": "code",
   "execution_count": 1,
   "metadata": {},
   "outputs": [],
   "source": [
    "import pandas as pd\n",
    "from sklearn.model_selection import train_test_split\n",
    "from sklearn.neighbors import KNeighborsClassifier\n",
    "from sklearn.metrics import accuracy_score\n",
    "from sklearn.model_selection import cross_val_score\n",
    "import matplotlib.pyplot as plt "
   ]
  },
  {
   "cell_type": "code",
   "execution_count": 2,
   "metadata": {},
   "outputs": [
    {
     "name": "stdout",
     "output_type": "stream",
     "text": [
      "          x         y  class\n",
      "0  0.700335 -0.247068    0.0\n",
      "1 -3.950019  2.740080    1.0\n",
      "2  0.150222 -2.157638    1.0\n",
      "3 -1.672050 -0.941519    1.0\n",
      "4  2.560483 -1.846577    1.0\n"
     ]
    },
    {
     "data": {
      "text/plain": [
       "(500, 2)"
      ]
     },
     "execution_count": 2,
     "metadata": {},
     "output_type": "execute_result"
    }
   ],
   "source": [
    "# loading training data\n",
    "df = pd.read_csv('../Data/demo_data/3.concertriccir2.csv', names=['x', 'y', 'class'])\n",
    "print(df.head())\n",
    "\n",
    "X = df.iloc[:, 0:2]\n",
    "y = df['class']\n",
    "X.shape"
   ]
  },
  {
   "cell_type": "markdown",
   "metadata": {},
   "source": [
    "# Simple Cross Validation"
   ]
  },
  {
   "cell_type": "code",
   "execution_count": 3,
   "metadata": {},
   "outputs": [],
   "source": [
    "X_1, X_test, y_1, y_test = train_test_split(X, y, test_size=0.3, random_state=0)\n",
    "\n",
    "X_tr, X_cv, y_tr, y_cv = train_test_split(X_1, y_1, test_size=0.3)\n",
    "\n",
    "scores= {}\n",
    "for i in range(1,30,2):\n",
    "    clf = KNeighborsClassifier(n_neighbors = i)\n",
    "    clf.fit(X_tr, y_tr)\n",
    "    \n",
    "    pred = clf.predict(X_cv)\n",
    "    \n",
    "    cv_acc  = accuracy_score(y_cv, pred, normalize=True) * float(100)\n",
    "    \n",
    "    scores[i]= cv_acc\n",
    "    "
   ]
  },
  {
   "cell_type": "code",
   "execution_count": 4,
   "metadata": {},
   "outputs": [
    {
     "data": {
      "text/plain": [
       "3"
      ]
     },
     "execution_count": 4,
     "metadata": {},
     "output_type": "execute_result"
    }
   ],
   "source": [
    "optimal_k = max(scores, key= scores.get) \n",
    "optimal_k"
   ]
  },
  {
   "cell_type": "code",
   "execution_count": 5,
   "metadata": {},
   "outputs": [
    {
     "data": {
      "text/plain": [
       "88.0"
      ]
     },
     "execution_count": 5,
     "metadata": {},
     "output_type": "execute_result"
    }
   ],
   "source": [
    "clf = KNeighborsClassifier(n_neighbors = optimal_k)\n",
    "clf.fit(X_tr, y_tr)\n",
    "    \n",
    "pred = clf.predict(X_test)\n",
    "    \n",
    "test_acc  = accuracy_score(y_test, pred, normalize=True) * float(100)\n",
    "test_acc"
   ]
  },
  {
   "cell_type": "markdown",
   "metadata": {},
   "source": [
    "KNN on the data using 49% of the data (0.7*0.7) gives an aacuracy of 90%\n",
    "\n",
    "\n",
    "\n",
    "Here only 49% of data is used, so we use K- fold cross validation for less data loss."
   ]
  },
  {
   "cell_type": "markdown",
   "metadata": {},
   "source": [
    "# 5 fold cross validation"
   ]
  },
  {
   "cell_type": "code",
   "execution_count": 6,
   "metadata": {},
   "outputs": [
    {
     "data": {
      "text/plain": [
       "[0.10857142857142854,\n",
       " 0.10857142857142854,\n",
       " 0.09999999999999998,\n",
       " 0.11142857142857143,\n",
       " 0.12571428571428578,\n",
       " 0.14571428571428569,\n",
       " 0.12857142857142867,\n",
       " 0.16857142857142848,\n",
       " 0.17428571428571416,\n",
       " 0.18285714285714272,\n",
       " 0.19714285714285718,\n",
       " 0.21714285714285708,\n",
       " 0.22571428571428576,\n",
       " 0.24857142857142855,\n",
       " 0.26857142857142846,\n",
       " 0.2885714285714285,\n",
       " 0.3028571428571428,\n",
       " 0.30000000000000004,\n",
       " 0.32000000000000006,\n",
       " 0.32571428571428584,\n",
       " 0.3400000000000001,\n",
       " 0.34857142857142853,\n",
       " 0.3600000000000001,\n",
       " 0.3628571428571429,\n",
       " 0.37428571428571433]"
      ]
     },
     "execution_count": 6,
     "metadata": {},
     "output_type": "execute_result"
    }
   ],
   "source": [
    "neighbors = list(range(1,50,2)) #odd values for the value of K\n",
    "\n",
    "cv_scores = []\n",
    "\n",
    "# perform 5-fold cross validation\n",
    "for k in neighbors:\n",
    "    knn = KNeighborsClassifier(n_neighbors=k)\n",
    "    scores = cross_val_score(knn, X_1, y_1, cv=5, scoring='accuracy')\n",
    "    cv_scores.append(scores.mean())\n",
    "\n",
    "# changing to misclassification error\n",
    "MSE = [1 - x for x in cv_scores]\n",
    "MSE\n"
   ]
  },
  {
   "cell_type": "code",
   "execution_count": 7,
   "metadata": {},
   "outputs": [
    {
     "name": "stdout",
     "output_type": "stream",
     "text": [
      "\n",
      "The optimal number of neighbors is 5.\n"
     ]
    }
   ],
   "source": [
    "# determining best k\n",
    "optimal_k = neighbors[MSE.index(min(MSE))]\n",
    "print('\\nThe optimal number of neighbors is %d.' % optimal_k)\n"
   ]
  },
  {
   "cell_type": "code",
   "execution_count": 8,
   "metadata": {},
   "outputs": [
    {
     "data": {
      "image/png": "[encoded data removed]",
      "text/plain": [
       "<Figure size 432x288 with 1 Axes>"
      ]
     },
     "metadata": {
      "needs_background": "light"
     },
     "output_type": "display_data"
    }
   ],
   "source": [
    "plt.plot(neighbors, MSE)\n",
    "\n",
    "plt.xlabel('Number of Neighbors K')\n",
    "plt.ylabel('Misclassification Error')\n",
    "plt.show()"
   ]
  },
  {
   "cell_type": "code",
   "execution_count": 9,
   "metadata": {},
   "outputs": [
    {
     "data": {
      "text/plain": [
       "87.33333333333333"
      ]
     },
     "execution_count": 9,
     "metadata": {},
     "output_type": "execute_result"
    }
   ],
   "source": [
    "clf = KNeighborsClassifier(n_neighbors = optimal_k)\n",
    "clf.fit(X_tr, y_tr)\n",
    "    \n",
    "pred = clf.predict(X_test)\n",
    "    \n",
    "test_acc  = accuracy_score(y_test, pred, normalize=True) * float(100)\n",
    "test_acc"
   ]
  },
  {
   "cell_type": "markdown",
   "metadata": {},
   "source": [
    "KNN on the data using 70% of the data gives an aacuracy of 85.3%"
   ]
  }
 ],
 "metadata": {
  "kernelspec": {
   "display_name": "envai",
   "language": "python",
   "name": "envai"
  },
  "language_info": {
   "codemirror_mode": {
    "name": "ipython",
    "version": 3
   },
   "file_extension": ".py",
   "mimetype": "text/x-python",
   "name": "python",
   "nbconvert_exporter": "python",
   "pygments_lexer": "ipython3",
   "version": "3.8.2"
  }
 },
 "nbformat": 4,
 "nbformat_minor": 4
}
